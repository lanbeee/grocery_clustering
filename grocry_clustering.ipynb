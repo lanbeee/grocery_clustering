{
 "cells": [
  {
   "cell_type": "code",
   "execution_count": 3,
   "metadata": {},
   "outputs": [],
   "source": [
    "import numpy as np\n",
    "import pandas as pd\n",
    "from collections import Counter\n",
    "from sklearn.cluster import KMeans"
   ]
  },
  {
   "cell_type": "code",
   "execution_count": 4,
   "metadata": {},
   "outputs": [],
   "source": [
    "item_to_id = pd.read_csv('item_to_id.csv')\n",
    "df = pd.read_csv('purchase_history.csv')\n",
    "\n",
    "id_to_item_string = item_to_id.Item_name\n",
    "\n",
    "id_to_item_string.index = item_to_id.Item_id"
   ]
  },
  {
   "cell_type": "code",
   "execution_count": 5,
   "metadata": {},
   "outputs": [
    {
     "name": "stdout",
     "output_type": "stream",
     "text": [
      "<class 'pandas.core.frame.DataFrame'>\n",
      "RangeIndex: 39474 entries, 0 to 39473\n",
      "Data columns (total 2 columns):\n",
      "user_id    39474 non-null int64\n",
      "id         39474 non-null object\n",
      "dtypes: int64(1), object(1)\n",
      "memory usage: 616.9+ KB\n"
     ]
    }
   ],
   "source": [
    "df.info() # Checking for NaN"
   ]
  },
  {
   "cell_type": "code",
   "execution_count": 6,
   "metadata": {},
   "outputs": [],
   "source": [
    "main_df = pd.DataFrame(index= df.user_id)"
   ]
  },
  {
   "cell_type": "code",
   "execution_count": 7,
   "metadata": {},
   "outputs": [],
   "source": [
    "for prod_id in range(1,49):\n",
    "    one_hots = []\n",
    "    for ids in df['id']:\n",
    "        id_list = ids.split(',')\n",
    "        if str(prod_id) in id_list:\n",
    "            one_hots.append(1)\n",
    "        else:\n",
    "            one_hots.append(0)\n",
    "    main_df[prod_id] = one_hots"
   ]
  },
  {
   "cell_type": "markdown",
   "metadata": {},
   "source": [
    "Here in the above for loop all the shopping history is added in dataframe in one hot form\n",
    "for the application of k-means"
   ]
  },
  {
   "cell_type": "code",
   "execution_count": 12,
   "metadata": {},
   "outputs": [],
   "source": [
    "def cluster_items(c_label):\n",
    "    c_label = pd.Series(c_label)\n",
    "    cluster_list = c_label.unique()\n",
    "    for clust_number in cluster_list:\n",
    "        print('_'*100)\n",
    "        items = []\n",
    "        for n,j in enumerate(c_label):\n",
    "            if j == clust_number:\n",
    "                items.append(id_to_item_string[n+1])\n",
    "        print(items)\n",
    "        print('-'*100)\n",
    "        print()"
   ]
  },
  {
   "cell_type": "markdown",
   "metadata": {},
   "source": [
    "The above method cluster_items is for converting item id to item string.\n",
    "<hr />\n",
    "In the for loop below this cell Clusters are made with different k values for kmeans."
   ]
  },
  {
   "cell_type": "code",
   "execution_count": 8,
   "metadata": {
    "scrolled": true
   },
   "outputs": [
    {
     "name": "stdout",
     "output_type": "stream",
     "text": [
      "Cluster with k = 3\n",
      "____________________________________________________________________________________________________\n",
      "['sugar', 'pet items', 'baby items', 'waffles', 'poultry', 'sandwich bags', 'butter', 'soda', 'cereals', 'shampoo', 'bagels', 'eggs', 'aluminum foil', 'milk', 'beef', 'laundry detergent', 'shaving cream', 'cheeses', 'frozen vegetables', 'tea', 'paper towels', 'spaghetti sauce', 'dishwashing\\xa0', 'canned vegetables', 'hand soap', 'flour', 'pasta', 'toilet paper', 'tortillas', 'soap', 'ice cream', 'dinner rolls', 'juice', 'sandwich loaves', 'ketchup', 'coffee', 'pork', 'yogurt']\n",
      "----------------------------------------------------------------------------------------------------\n",
      "\n",
      "____________________________________________________________________________________________________\n",
      "['lettuce', 'carrots', 'cucumbers', 'broccoli', 'cauliflower']\n",
      "----------------------------------------------------------------------------------------------------\n",
      "\n",
      "____________________________________________________________________________________________________\n",
      "['grapefruit', 'cherries', 'apples', 'berries', 'bananas']\n",
      "----------------------------------------------------------------------------------------------------\n",
      "\n",
      "====================================================================================================\n",
      "Cluster with k = 4\n",
      "____________________________________________________________________________________________________\n",
      "['sugar', 'pet items', 'baby items', 'waffles', 'poultry', 'sandwich bags', 'butter', 'cereals', 'shampoo', 'bagels', 'eggs', 'aluminum foil', 'milk', 'beef', 'laundry detergent', 'shaving cream', 'cheeses', 'frozen vegetables', 'paper towels', 'spaghetti sauce', 'dishwashing\\xa0', 'canned vegetables', 'hand soap', 'flour', 'pasta', 'toilet paper', 'tortillas', 'soap', 'ice cream', 'dinner rolls', 'sandwich loaves', 'ketchup', 'pork', 'yogurt']\n",
      "----------------------------------------------------------------------------------------------------\n",
      "\n",
      "____________________________________________________________________________________________________\n",
      "['lettuce', 'carrots', 'cucumbers', 'broccoli', 'cauliflower']\n",
      "----------------------------------------------------------------------------------------------------\n",
      "\n",
      "____________________________________________________________________________________________________\n",
      "['soda', 'tea', 'juice', 'coffee']\n",
      "----------------------------------------------------------------------------------------------------\n",
      "\n",
      "____________________________________________________________________________________________________\n",
      "['grapefruit', 'cherries', 'apples', 'berries', 'bananas']\n",
      "----------------------------------------------------------------------------------------------------\n",
      "\n",
      "====================================================================================================\n",
      "Cluster with k = 5\n",
      "____________________________________________________________________________________________________\n",
      "['sugar', 'pet items', 'baby items', 'waffles', 'poultry', 'sandwich bags', 'butter', 'cereals', 'shampoo', 'eggs', 'aluminum foil', 'milk', 'beef', 'laundry detergent', 'shaving cream', 'cheeses', 'frozen vegetables', 'paper towels', 'spaghetti sauce', 'dishwashing\\xa0', 'canned vegetables', 'hand soap', 'flour', 'pasta', 'toilet paper', 'soap', 'ice cream', 'ketchup', 'pork', 'yogurt']\n",
      "----------------------------------------------------------------------------------------------------\n",
      "\n",
      "____________________________________________________________________________________________________\n",
      "['lettuce', 'carrots', 'cucumbers', 'broccoli', 'cauliflower']\n",
      "----------------------------------------------------------------------------------------------------\n",
      "\n",
      "____________________________________________________________________________________________________\n",
      "['soda', 'tea', 'juice', 'coffee']\n",
      "----------------------------------------------------------------------------------------------------\n",
      "\n",
      "____________________________________________________________________________________________________\n",
      "['bagels', 'tortillas', 'dinner rolls', 'sandwich loaves']\n",
      "----------------------------------------------------------------------------------------------------\n",
      "\n",
      "____________________________________________________________________________________________________\n",
      "['grapefruit', 'cherries', 'apples', 'berries', 'bananas']\n",
      "----------------------------------------------------------------------------------------------------\n",
      "\n",
      "====================================================================================================\n",
      "Cluster with k = 6\n",
      "____________________________________________________________________________________________________\n",
      "['sugar', 'pet items', 'baby items', 'waffles', 'poultry', 'sandwich bags', 'butter', 'cereals', 'shampoo', 'eggs', 'aluminum foil', 'milk', 'beef', 'laundry detergent', 'shaving cream', 'cheeses', 'frozen vegetables', 'paper towels', 'dishwashing\\xa0', 'hand soap', 'flour', 'pasta', 'toilet paper', 'soap', 'ice cream', 'pork', 'yogurt']\n",
      "----------------------------------------------------------------------------------------------------\n",
      "\n",
      "____________________________________________________________________________________________________\n",
      "['lettuce', 'carrots', 'cucumbers', 'broccoli', 'cauliflower']\n",
      "----------------------------------------------------------------------------------------------------\n",
      "\n",
      "____________________________________________________________________________________________________\n",
      "['soda', 'tea', 'juice', 'coffee']\n",
      "----------------------------------------------------------------------------------------------------\n",
      "\n",
      "____________________________________________________________________________________________________\n",
      "['bagels', 'tortillas', 'dinner rolls', 'sandwich loaves']\n",
      "----------------------------------------------------------------------------------------------------\n",
      "\n",
      "____________________________________________________________________________________________________\n",
      "['grapefruit', 'cherries', 'apples', 'berries', 'bananas']\n",
      "----------------------------------------------------------------------------------------------------\n",
      "\n",
      "____________________________________________________________________________________________________\n",
      "['spaghetti sauce', 'canned vegetables', 'ketchup']\n",
      "----------------------------------------------------------------------------------------------------\n",
      "\n",
      "====================================================================================================\n",
      "Cluster with k = 7\n",
      "____________________________________________________________________________________________________\n",
      "['sugar', 'pet items', 'baby items', 'waffles', 'sandwich bags', 'butter', 'cereals', 'shampoo', 'eggs', 'aluminum foil', 'milk', 'laundry detergent', 'shaving cream', 'cheeses', 'frozen vegetables', 'paper towels', 'dishwashing\\xa0', 'hand soap', 'flour', 'pasta', 'toilet paper', 'soap', 'ice cream', 'yogurt']\n",
      "----------------------------------------------------------------------------------------------------\n",
      "\n",
      "____________________________________________________________________________________________________\n",
      "['lettuce', 'carrots', 'cucumbers', 'broccoli', 'cauliflower']\n",
      "----------------------------------------------------------------------------------------------------\n",
      "\n",
      "____________________________________________________________________________________________________\n",
      "['poultry', 'beef', 'pork']\n",
      "----------------------------------------------------------------------------------------------------\n",
      "\n",
      "____________________________________________________________________________________________________\n",
      "['soda', 'tea', 'juice', 'coffee']\n",
      "----------------------------------------------------------------------------------------------------\n",
      "\n",
      "____________________________________________________________________________________________________\n",
      "['bagels', 'tortillas', 'dinner rolls', 'sandwich loaves']\n",
      "----------------------------------------------------------------------------------------------------\n",
      "\n",
      "____________________________________________________________________________________________________\n",
      "['grapefruit', 'cherries', 'apples', 'berries', 'bananas']\n",
      "----------------------------------------------------------------------------------------------------\n",
      "\n",
      "____________________________________________________________________________________________________\n",
      "['spaghetti sauce', 'canned vegetables', 'ketchup']\n",
      "----------------------------------------------------------------------------------------------------\n",
      "\n",
      "====================================================================================================\n",
      "Cluster with k = 8\n"
     ]
    },
    {
     "name": "stdout",
     "output_type": "stream",
     "text": [
      "____________________________________________________________________________________________________\n",
      "['sugar', 'pet items', 'baby items', 'waffles', 'poultry', 'sandwich bags', 'butter', 'soda', 'carrots', 'cereals', 'shampoo', 'bagels', 'eggs', 'aluminum foil', 'milk', 'beef', 'laundry detergent', 'shaving cream', 'cheeses', 'frozen vegetables', 'tea', 'paper towels', 'spaghetti sauce', 'dishwashing\\xa0', 'canned vegetables', 'hand soap', 'flour', 'pasta', 'toilet paper', 'tortillas', 'soap', 'ice cream', 'dinner rolls', 'juice', 'sandwich loaves', 'ketchup', 'coffee', 'broccoli', 'cauliflower', 'pork', 'yogurt']\n",
      "----------------------------------------------------------------------------------------------------\n",
      "\n",
      "____________________________________________________________________________________________________\n",
      "['lettuce']\n",
      "----------------------------------------------------------------------------------------------------\n",
      "\n",
      "____________________________________________________________________________________________________\n",
      "['grapefruit']\n",
      "----------------------------------------------------------------------------------------------------\n",
      "\n",
      "____________________________________________________________________________________________________\n",
      "['cherries']\n",
      "----------------------------------------------------------------------------------------------------\n",
      "\n",
      "____________________________________________________________________________________________________\n",
      "['apples']\n",
      "----------------------------------------------------------------------------------------------------\n",
      "\n",
      "____________________________________________________________________________________________________\n",
      "['berries']\n",
      "----------------------------------------------------------------------------------------------------\n",
      "\n",
      "____________________________________________________________________________________________________\n",
      "['cucumbers']\n",
      "----------------------------------------------------------------------------------------------------\n",
      "\n",
      "____________________________________________________________________________________________________\n",
      "['bananas']\n",
      "----------------------------------------------------------------------------------------------------\n",
      "\n",
      "====================================================================================================\n",
      "Cluster with k = 9\n",
      "____________________________________________________________________________________________________\n",
      "['sugar', 'pet items', 'baby items', 'waffles', 'poultry', 'sandwich bags', 'butter', 'soda', 'cereals', 'shampoo', 'bagels', 'eggs', 'aluminum foil', 'milk', 'beef', 'laundry detergent', 'shaving cream', 'cheeses', 'frozen vegetables', 'tea', 'paper towels', 'spaghetti sauce', 'dishwashing\\xa0', 'canned vegetables', 'hand soap', 'flour', 'pasta', 'toilet paper', 'tortillas', 'soap', 'ice cream', 'dinner rolls', 'juice', 'sandwich loaves', 'ketchup', 'coffee', 'broccoli', 'cauliflower', 'pork', 'yogurt']\n",
      "----------------------------------------------------------------------------------------------------\n",
      "\n",
      "____________________________________________________________________________________________________\n",
      "['lettuce']\n",
      "----------------------------------------------------------------------------------------------------\n",
      "\n",
      "____________________________________________________________________________________________________\n",
      "['carrots']\n",
      "----------------------------------------------------------------------------------------------------\n",
      "\n",
      "____________________________________________________________________________________________________\n",
      "['grapefruit']\n",
      "----------------------------------------------------------------------------------------------------\n",
      "\n",
      "____________________________________________________________________________________________________\n",
      "['cherries']\n",
      "----------------------------------------------------------------------------------------------------\n",
      "\n",
      "____________________________________________________________________________________________________\n",
      "['apples']\n",
      "----------------------------------------------------------------------------------------------------\n",
      "\n",
      "____________________________________________________________________________________________________\n",
      "['berries']\n",
      "----------------------------------------------------------------------------------------------------\n",
      "\n",
      "____________________________________________________________________________________________________\n",
      "['cucumbers']\n",
      "----------------------------------------------------------------------------------------------------\n",
      "\n",
      "____________________________________________________________________________________________________\n",
      "['bananas']\n",
      "----------------------------------------------------------------------------------------------------\n",
      "\n",
      "====================================================================================================\n"
     ]
    }
   ],
   "source": [
    "for i in range(3,10):\n",
    "    print('Cluster with k =',i)\n",
    "    n_means = KMeans(n_clusters= i,random_state=43 ,n_init=1000,max_iter=1200).fit(main_df.values.T)\n",
    "    cluster_items(n_means.labels_)\n",
    "    print('='*100)"
   ]
  },
  {
   "cell_type": "markdown",
   "metadata": {},
   "source": [
    "So, we can see that with k = 7 we get clusters:\n",
    "<hr />\n",
    "\n",
    "Cluster 1\n",
    "\n",
    "'sugar', 'pet items', 'baby items', 'waffles', 'sandwich bags', 'butter', 'cereals', 'shampoo', 'eggs', 'aluminum foil', 'milk', 'laundry detergent', 'shaving cream', 'cheeses', 'frozen vegetables', 'paper towels', 'dishwashing\\xa0', 'hand soap', 'flour', 'pasta', 'toilet paper', 'soap', 'ice cream', 'yogurt'\n",
    "<hr />\n",
    "\n",
    "Cluster 2\n",
    "\n",
    "'lettuce', 'carrots', 'cucumbers', 'broccoli', 'cauliflower'\n",
    "<hr />\n",
    "\n",
    "Cluster 3\n",
    "\n",
    "'poultry', 'beef', 'pork'\n",
    "<hr />\n",
    "\n",
    "Cluster 4\n",
    "\n",
    "'soda', 'tea', 'juice', 'coffee'\n",
    "<hr />\n",
    "\n",
    "Cluster 5\n",
    "\n",
    "'bagels', 'tortillas', 'dinner rolls', 'sandwich loaves'\n",
    "<hr />\n",
    "\n",
    "Cluster 6\n",
    "\n",
    "'grapefruit', 'cherries', 'apples', 'berries', 'bananas'\n",
    "<hr />\n",
    "\n",
    "Cluster 7\n",
    "\n",
    "'spaghetti sauce', 'canned vegetables', 'ketchup'"
   ]
  },
  {
   "cell_type": "code",
   "execution_count": 9,
   "metadata": {},
   "outputs": [],
   "source": [
    "main_df = main_df.sort_index()"
   ]
  },
  {
   "cell_type": "code",
   "execution_count": 10,
   "metadata": {},
   "outputs": [],
   "source": [
    "sum_table = main_df.groupby(level=0).sum()"
   ]
  },
  {
   "cell_type": "code",
   "execution_count": 14,
   "metadata": {},
   "outputs": [
    {
     "data": {
      "text/plain": [
       "269335"
      ]
     },
     "execution_count": 14,
     "metadata": {},
     "output_type": "execute_result"
    }
   ],
   "source": [
    "sum_table.sum(axis=1).idxmax()"
   ]
  },
  {
   "cell_type": "markdown",
   "metadata": {},
   "source": [
    "Customer who bought most is id no. 269335"
   ]
  },
  {
   "cell_type": "code",
   "execution_count": 15,
   "metadata": {},
   "outputs": [],
   "source": [
    "uid_most_bought_product = []\n",
    "for uid in sum_table:\n",
    "    uid_most_bought_product.append(sum_table[uid].idxmax())"
   ]
  },
  {
   "cell_type": "code",
   "execution_count": 119,
   "metadata": {},
   "outputs": [
    {
     "data": {
      "text/plain": [
       "48"
      ]
     },
     "execution_count": 119,
     "metadata": {},
     "output_type": "execute_result"
    }
   ],
   "source": [
    "len(uid_most_bought_product)"
   ]
  },
  {
   "cell_type": "code",
   "execution_count": 16,
   "metadata": {},
   "outputs": [],
   "source": [
    "customer_who_bought_most_by_item = pd.Series(uid_most_bought_product,\n",
    "                                             index=[id_to_item_string[i] for i in range(1,49)])"
   ]
  },
  {
   "cell_type": "code",
   "execution_count": 17,
   "metadata": {},
   "outputs": [
    {
     "data": {
      "text/plain": [
       "sugar                  31625\n",
       "lettuce                31625\n",
       "pet items             154960\n",
       "baby items              5289\n",
       "waffles               217277\n",
       "poultry               334664\n",
       "sandwich bags         175865\n",
       "butter                151926\n",
       "soda                  269335\n",
       "carrots               618914\n",
       "cereals               367872\n",
       "shampoo               557904\n",
       "bagels                653800\n",
       "eggs                  172120\n",
       "aluminum foil         143741\n",
       "milk                   73071\n",
       "beef                  366155\n",
       "laundry detergent     917199\n",
       "shaving cream          31625\n",
       "grapefruit            885474\n",
       "cheeses               884172\n",
       "frozen vegetables    1199670\n",
       "tea                   920002\n",
       "paper towels          189913\n",
       "cherries               68282\n",
       "spaghetti sauce       967573\n",
       "dishwashing           956666\n",
       "canned vegetables     204624\n",
       "hand soap             394348\n",
       "flour                  21779\n",
       "pasta                 289360\n",
       "apples                109578\n",
       "toilet paper         1310207\n",
       "tortillas             305916\n",
       "soap                  450482\n",
       "ice cream             269335\n",
       "dinner rolls           46757\n",
       "juice                 255546\n",
       "sandwich loaves       599172\n",
       "berries                38872\n",
       "ketchup               133355\n",
       "cucumbers              80215\n",
       "coffee                996380\n",
       "broccoli               31625\n",
       "cauliflower          1198106\n",
       "bananas              1218645\n",
       "pork                  384935\n",
       "yogurt                335841\n",
       "dtype: int64"
      ]
     },
     "execution_count": 17,
     "metadata": {},
     "output_type": "execute_result"
    }
   ],
   "source": [
    "customer_who_bought_most_by_item"
   ]
  },
  {
   "cell_type": "code",
   "execution_count": 8,
   "metadata": {},
   "outputs": [],
   "source": [
    "n_means = KMeans(n_clusters= 7,random_state=43 ,n_init=1000,max_iter=1200).fit(main_df.values.T)"
   ]
  },
  {
   "cell_type": "code",
   "execution_count": 13,
   "metadata": {},
   "outputs": [
    {
     "name": "stdout",
     "output_type": "stream",
     "text": [
      "____________________________________________________________________________________________________\n",
      "['sugar', 'pet items', 'baby items', 'waffles', 'sandwich bags', 'butter', 'cereals', 'shampoo', 'eggs', 'aluminum foil', 'milk', 'laundry detergent', 'shaving cream', 'cheeses', 'frozen vegetables', 'paper towels', 'dishwashing\\xa0', 'hand soap', 'flour', 'pasta', 'toilet paper', 'soap', 'ice cream', 'yogurt']\n",
      "----------------------------------------------------------------------------------------------------\n",
      "\n",
      "____________________________________________________________________________________________________\n",
      "['lettuce', 'carrots', 'cucumbers', 'broccoli', 'cauliflower']\n",
      "----------------------------------------------------------------------------------------------------\n",
      "\n",
      "____________________________________________________________________________________________________\n",
      "['poultry', 'beef', 'pork']\n",
      "----------------------------------------------------------------------------------------------------\n",
      "\n",
      "____________________________________________________________________________________________________\n",
      "['soda', 'tea', 'juice', 'coffee']\n",
      "----------------------------------------------------------------------------------------------------\n",
      "\n",
      "____________________________________________________________________________________________________\n",
      "['bagels', 'tortillas', 'dinner rolls', 'sandwich loaves']\n",
      "----------------------------------------------------------------------------------------------------\n",
      "\n",
      "____________________________________________________________________________________________________\n",
      "['grapefruit', 'cherries', 'apples', 'berries', 'bananas']\n",
      "----------------------------------------------------------------------------------------------------\n",
      "\n",
      "____________________________________________________________________________________________________\n",
      "['spaghetti sauce', 'canned vegetables', 'ketchup']\n",
      "----------------------------------------------------------------------------------------------------\n",
      "\n"
     ]
    }
   ],
   "source": [
    "cluster_items(n_means.labels_)"
   ]
  },
  {
   "cell_type": "code",
   "execution_count": 18,
   "metadata": {},
   "outputs": [],
   "source": [
    "customer_who_bought_most_by_item.to_csv('customer_who_bought_most_by_item.csv')"
   ]
  },
  {
   "cell_type": "code",
   "execution_count": 23,
   "metadata": {},
   "outputs": [],
   "source": [
    "clusters_with_pid = pd.DataFrame([range(1,49),n_means.labels_])\n",
    "clusters_with_pid = clusters_with_pid.T\n",
    "clusters_with_pid.columns = ['item_id','cluster_id']"
   ]
  },
  {
   "cell_type": "code",
   "execution_count": 25,
   "metadata": {},
   "outputs": [],
   "source": [
    "clusters_with_pid.to_csv('cluster_7.csv',index= False)"
   ]
  }
 ],
 "metadata": {
  "kernelspec": {
   "display_name": "Python 3",
   "language": "python",
   "name": "python3"
  },
  "language_info": {
   "codemirror_mode": {
    "name": "ipython",
    "version": 3
   },
   "file_extension": ".py",
   "mimetype": "text/x-python",
   "name": "python",
   "nbconvert_exporter": "python",
   "pygments_lexer": "ipython3",
   "version": "3.6.5"
  }
 },
 "nbformat": 4,
 "nbformat_minor": 2
}
